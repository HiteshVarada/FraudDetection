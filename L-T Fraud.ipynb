{
 "cells": [
  {
   "cell_type": "code",
   "execution_count": 1,
   "id": "94438640",
   "metadata": {},
   "outputs": [],
   "source": [
    "import pandas as pd\n",
    "import numpy as np\n",
    "import matplotlib.pyplot as plt\n",
    "import seaborn as sns\n"
   ]
  },
  {
   "cell_type": "code",
   "execution_count": 2,
   "id": "2e301c30",
   "metadata": {},
   "outputs": [
    {
     "name": "stdout",
     "output_type": "stream",
     "text": [
      "Requirement already satisfied: xgboost in /Users/hiteshvarada/opt/anaconda3/lib/python3.9/site-packages (1.7.5)\n",
      "Requirement already satisfied: numpy in /Users/hiteshvarada/opt/anaconda3/lib/python3.9/site-packages (from xgboost) (1.20.3)\n",
      "Requirement already satisfied: scipy in /Users/hiteshvarada/opt/anaconda3/lib/python3.9/site-packages (from xgboost) (1.7.1)\n",
      "Note: you may need to restart the kernel to use updated packages.\n"
     ]
    }
   ],
   "source": [
    "pip install xgboost"
   ]
  },
  {
   "cell_type": "code",
   "execution_count": 3,
   "id": "b6ec0d5d",
   "metadata": {},
   "outputs": [
    {
     "name": "stdout",
     "output_type": "stream",
     "text": [
      "Requirement already satisfied: imbalanced-learn in /Users/hiteshvarada/opt/anaconda3/lib/python3.9/site-packages (0.10.1)\n",
      "Requirement already satisfied: scikit-learn>=1.0.2 in /Users/hiteshvarada/opt/anaconda3/lib/python3.9/site-packages (from imbalanced-learn) (1.2.2)\n",
      "Requirement already satisfied: threadpoolctl>=2.0.0 in /Users/hiteshvarada/opt/anaconda3/lib/python3.9/site-packages (from imbalanced-learn) (2.2.0)\n",
      "Requirement already satisfied: joblib>=1.1.1 in /Users/hiteshvarada/opt/anaconda3/lib/python3.9/site-packages (from imbalanced-learn) (1.2.0)\n",
      "Requirement already satisfied: scipy>=1.3.2 in /Users/hiteshvarada/opt/anaconda3/lib/python3.9/site-packages (from imbalanced-learn) (1.7.1)\n",
      "Requirement already satisfied: numpy>=1.17.3 in /Users/hiteshvarada/opt/anaconda3/lib/python3.9/site-packages (from imbalanced-learn) (1.20.3)\n",
      "Note: you may need to restart the kernel to use updated packages.\n"
     ]
    }
   ],
   "source": [
    "pip install imbalanced-learn"
   ]
  },
  {
   "cell_type": "code",
   "execution_count": 4,
   "id": "80bc1989",
   "metadata": {},
   "outputs": [
    {
     "data": {
      "text/html": [
       "<div>\n",
       "<style scoped>\n",
       "    .dataframe tbody tr th:only-of-type {\n",
       "        vertical-align: middle;\n",
       "    }\n",
       "\n",
       "    .dataframe tbody tr th {\n",
       "        vertical-align: top;\n",
       "    }\n",
       "\n",
       "    .dataframe thead th {\n",
       "        text-align: right;\n",
       "    }\n",
       "</style>\n",
       "<table border=\"1\" class=\"dataframe\">\n",
       "  <thead>\n",
       "    <tr style=\"text-align: right;\">\n",
       "      <th></th>\n",
       "      <th>UniqueID</th>\n",
       "      <th>disbursed_amount</th>\n",
       "      <th>asset_cost</th>\n",
       "      <th>ltv</th>\n",
       "      <th>branch_id</th>\n",
       "      <th>supplier_id</th>\n",
       "      <th>manufacturer_id</th>\n",
       "      <th>Current_pincode_ID</th>\n",
       "      <th>Date.of.Birth</th>\n",
       "      <th>Employment.Type</th>\n",
       "      <th>...</th>\n",
       "      <th>SEC.SANCTIONED.AMOUNT</th>\n",
       "      <th>SEC.DISBURSED.AMOUNT</th>\n",
       "      <th>PRIMARY.INSTAL.AMT</th>\n",
       "      <th>SEC.INSTAL.AMT</th>\n",
       "      <th>NEW.ACCTS.IN.LAST.SIX.MONTHS</th>\n",
       "      <th>DELINQUENT.ACCTS.IN.LAST.SIX.MONTHS</th>\n",
       "      <th>AVERAGE.ACCT.AGE</th>\n",
       "      <th>CREDIT.HISTORY.LENGTH</th>\n",
       "      <th>NO.OF_INQUIRIES</th>\n",
       "      <th>loan_default</th>\n",
       "    </tr>\n",
       "  </thead>\n",
       "  <tbody>\n",
       "    <tr>\n",
       "      <th>0</th>\n",
       "      <td>420825</td>\n",
       "      <td>50578</td>\n",
       "      <td>58400</td>\n",
       "      <td>89.55</td>\n",
       "      <td>67</td>\n",
       "      <td>22807</td>\n",
       "      <td>45</td>\n",
       "      <td>1441</td>\n",
       "      <td>01-01-84</td>\n",
       "      <td>Salaried</td>\n",
       "      <td>...</td>\n",
       "      <td>0</td>\n",
       "      <td>0</td>\n",
       "      <td>0</td>\n",
       "      <td>0</td>\n",
       "      <td>0</td>\n",
       "      <td>0</td>\n",
       "      <td>0yrs 0mon</td>\n",
       "      <td>0yrs 0mon</td>\n",
       "      <td>0</td>\n",
       "      <td>0</td>\n",
       "    </tr>\n",
       "    <tr>\n",
       "      <th>1</th>\n",
       "      <td>537409</td>\n",
       "      <td>47145</td>\n",
       "      <td>65550</td>\n",
       "      <td>73.23</td>\n",
       "      <td>67</td>\n",
       "      <td>22807</td>\n",
       "      <td>45</td>\n",
       "      <td>1502</td>\n",
       "      <td>31-07-85</td>\n",
       "      <td>Self employed</td>\n",
       "      <td>...</td>\n",
       "      <td>0</td>\n",
       "      <td>0</td>\n",
       "      <td>1991</td>\n",
       "      <td>0</td>\n",
       "      <td>0</td>\n",
       "      <td>1</td>\n",
       "      <td>1yrs 11mon</td>\n",
       "      <td>1yrs 11mon</td>\n",
       "      <td>0</td>\n",
       "      <td>1</td>\n",
       "    </tr>\n",
       "    <tr>\n",
       "      <th>2</th>\n",
       "      <td>417566</td>\n",
       "      <td>53278</td>\n",
       "      <td>61360</td>\n",
       "      <td>89.63</td>\n",
       "      <td>67</td>\n",
       "      <td>22807</td>\n",
       "      <td>45</td>\n",
       "      <td>1497</td>\n",
       "      <td>24-08-85</td>\n",
       "      <td>Self employed</td>\n",
       "      <td>...</td>\n",
       "      <td>0</td>\n",
       "      <td>0</td>\n",
       "      <td>0</td>\n",
       "      <td>0</td>\n",
       "      <td>0</td>\n",
       "      <td>0</td>\n",
       "      <td>0yrs 0mon</td>\n",
       "      <td>0yrs 0mon</td>\n",
       "      <td>0</td>\n",
       "      <td>0</td>\n",
       "    </tr>\n",
       "    <tr>\n",
       "      <th>3</th>\n",
       "      <td>624493</td>\n",
       "      <td>57513</td>\n",
       "      <td>66113</td>\n",
       "      <td>88.48</td>\n",
       "      <td>67</td>\n",
       "      <td>22807</td>\n",
       "      <td>45</td>\n",
       "      <td>1501</td>\n",
       "      <td>30-12-93</td>\n",
       "      <td>Self employed</td>\n",
       "      <td>...</td>\n",
       "      <td>0</td>\n",
       "      <td>0</td>\n",
       "      <td>31</td>\n",
       "      <td>0</td>\n",
       "      <td>0</td>\n",
       "      <td>0</td>\n",
       "      <td>0yrs 8mon</td>\n",
       "      <td>1yrs 3mon</td>\n",
       "      <td>1</td>\n",
       "      <td>1</td>\n",
       "    </tr>\n",
       "    <tr>\n",
       "      <th>4</th>\n",
       "      <td>539055</td>\n",
       "      <td>52378</td>\n",
       "      <td>60300</td>\n",
       "      <td>88.39</td>\n",
       "      <td>67</td>\n",
       "      <td>22807</td>\n",
       "      <td>45</td>\n",
       "      <td>1495</td>\n",
       "      <td>09-12-77</td>\n",
       "      <td>Self employed</td>\n",
       "      <td>...</td>\n",
       "      <td>0</td>\n",
       "      <td>0</td>\n",
       "      <td>0</td>\n",
       "      <td>0</td>\n",
       "      <td>0</td>\n",
       "      <td>0</td>\n",
       "      <td>0yrs 0mon</td>\n",
       "      <td>0yrs 0mon</td>\n",
       "      <td>1</td>\n",
       "      <td>1</td>\n",
       "    </tr>\n",
       "    <tr>\n",
       "      <th>...</th>\n",
       "      <td>...</td>\n",
       "      <td>...</td>\n",
       "      <td>...</td>\n",
       "      <td>...</td>\n",
       "      <td>...</td>\n",
       "      <td>...</td>\n",
       "      <td>...</td>\n",
       "      <td>...</td>\n",
       "      <td>...</td>\n",
       "      <td>...</td>\n",
       "      <td>...</td>\n",
       "      <td>...</td>\n",
       "      <td>...</td>\n",
       "      <td>...</td>\n",
       "      <td>...</td>\n",
       "      <td>...</td>\n",
       "      <td>...</td>\n",
       "      <td>...</td>\n",
       "      <td>...</td>\n",
       "      <td>...</td>\n",
       "      <td>...</td>\n",
       "    </tr>\n",
       "    <tr>\n",
       "      <th>233149</th>\n",
       "      <td>626432</td>\n",
       "      <td>63213</td>\n",
       "      <td>105405</td>\n",
       "      <td>60.72</td>\n",
       "      <td>34</td>\n",
       "      <td>20700</td>\n",
       "      <td>48</td>\n",
       "      <td>1050</td>\n",
       "      <td>01-08-88</td>\n",
       "      <td>Salaried</td>\n",
       "      <td>...</td>\n",
       "      <td>0</td>\n",
       "      <td>0</td>\n",
       "      <td>4084</td>\n",
       "      <td>0</td>\n",
       "      <td>0</td>\n",
       "      <td>0</td>\n",
       "      <td>1yrs 9mon</td>\n",
       "      <td>3yrs 3mon</td>\n",
       "      <td>0</td>\n",
       "      <td>0</td>\n",
       "    </tr>\n",
       "    <tr>\n",
       "      <th>233150</th>\n",
       "      <td>606141</td>\n",
       "      <td>73651</td>\n",
       "      <td>100600</td>\n",
       "      <td>74.95</td>\n",
       "      <td>34</td>\n",
       "      <td>23775</td>\n",
       "      <td>51</td>\n",
       "      <td>990</td>\n",
       "      <td>05-12-88</td>\n",
       "      <td>Self employed</td>\n",
       "      <td>...</td>\n",
       "      <td>0</td>\n",
       "      <td>0</td>\n",
       "      <td>1565</td>\n",
       "      <td>0</td>\n",
       "      <td>0</td>\n",
       "      <td>0</td>\n",
       "      <td>0yrs 6mon</td>\n",
       "      <td>0yrs 6mon</td>\n",
       "      <td>0</td>\n",
       "      <td>0</td>\n",
       "    </tr>\n",
       "    <tr>\n",
       "      <th>233151</th>\n",
       "      <td>613658</td>\n",
       "      <td>33484</td>\n",
       "      <td>71212</td>\n",
       "      <td>48.45</td>\n",
       "      <td>77</td>\n",
       "      <td>22186</td>\n",
       "      <td>86</td>\n",
       "      <td>2299</td>\n",
       "      <td>01-06-76</td>\n",
       "      <td>Salaried</td>\n",
       "      <td>...</td>\n",
       "      <td>0</td>\n",
       "      <td>0</td>\n",
       "      <td>0</td>\n",
       "      <td>0</td>\n",
       "      <td>0</td>\n",
       "      <td>0</td>\n",
       "      <td>0yrs 0mon</td>\n",
       "      <td>0yrs 0mon</td>\n",
       "      <td>0</td>\n",
       "      <td>0</td>\n",
       "    </tr>\n",
       "    <tr>\n",
       "      <th>233152</th>\n",
       "      <td>548084</td>\n",
       "      <td>34259</td>\n",
       "      <td>73286</td>\n",
       "      <td>49.10</td>\n",
       "      <td>77</td>\n",
       "      <td>22186</td>\n",
       "      <td>86</td>\n",
       "      <td>2299</td>\n",
       "      <td>26-03-94</td>\n",
       "      <td>Salaried</td>\n",
       "      <td>...</td>\n",
       "      <td>0</td>\n",
       "      <td>0</td>\n",
       "      <td>0</td>\n",
       "      <td>0</td>\n",
       "      <td>0</td>\n",
       "      <td>0</td>\n",
       "      <td>0yrs 0mon</td>\n",
       "      <td>0yrs 0mon</td>\n",
       "      <td>0</td>\n",
       "      <td>0</td>\n",
       "    </tr>\n",
       "    <tr>\n",
       "      <th>233153</th>\n",
       "      <td>630213</td>\n",
       "      <td>75751</td>\n",
       "      <td>116009</td>\n",
       "      <td>66.81</td>\n",
       "      <td>77</td>\n",
       "      <td>22186</td>\n",
       "      <td>86</td>\n",
       "      <td>2299</td>\n",
       "      <td>18-02-84</td>\n",
       "      <td>Salaried</td>\n",
       "      <td>...</td>\n",
       "      <td>0</td>\n",
       "      <td>0</td>\n",
       "      <td>0</td>\n",
       "      <td>0</td>\n",
       "      <td>0</td>\n",
       "      <td>0</td>\n",
       "      <td>0yrs 0mon</td>\n",
       "      <td>0yrs 0mon</td>\n",
       "      <td>0</td>\n",
       "      <td>0</td>\n",
       "    </tr>\n",
       "  </tbody>\n",
       "</table>\n",
       "<p>233154 rows × 41 columns</p>\n",
       "</div>"
      ],
      "text/plain": [
       "        UniqueID  disbursed_amount  asset_cost    ltv  branch_id  supplier_id  \\\n",
       "0         420825             50578       58400  89.55         67        22807   \n",
       "1         537409             47145       65550  73.23         67        22807   \n",
       "2         417566             53278       61360  89.63         67        22807   \n",
       "3         624493             57513       66113  88.48         67        22807   \n",
       "4         539055             52378       60300  88.39         67        22807   \n",
       "...          ...               ...         ...    ...        ...          ...   \n",
       "233149    626432             63213      105405  60.72         34        20700   \n",
       "233150    606141             73651      100600  74.95         34        23775   \n",
       "233151    613658             33484       71212  48.45         77        22186   \n",
       "233152    548084             34259       73286  49.10         77        22186   \n",
       "233153    630213             75751      116009  66.81         77        22186   \n",
       "\n",
       "        manufacturer_id  Current_pincode_ID Date.of.Birth Employment.Type  \\\n",
       "0                    45                1441      01-01-84        Salaried   \n",
       "1                    45                1502      31-07-85   Self employed   \n",
       "2                    45                1497      24-08-85   Self employed   \n",
       "3                    45                1501      30-12-93   Self employed   \n",
       "4                    45                1495      09-12-77   Self employed   \n",
       "...                 ...                 ...           ...             ...   \n",
       "233149               48                1050      01-08-88        Salaried   \n",
       "233150               51                 990      05-12-88   Self employed   \n",
       "233151               86                2299      01-06-76        Salaried   \n",
       "233152               86                2299      26-03-94        Salaried   \n",
       "233153               86                2299      18-02-84        Salaried   \n",
       "\n",
       "        ... SEC.SANCTIONED.AMOUNT  SEC.DISBURSED.AMOUNT  PRIMARY.INSTAL.AMT  \\\n",
       "0       ...                     0                     0                   0   \n",
       "1       ...                     0                     0                1991   \n",
       "2       ...                     0                     0                   0   \n",
       "3       ...                     0                     0                  31   \n",
       "4       ...                     0                     0                   0   \n",
       "...     ...                   ...                   ...                 ...   \n",
       "233149  ...                     0                     0                4084   \n",
       "233150  ...                     0                     0                1565   \n",
       "233151  ...                     0                     0                   0   \n",
       "233152  ...                     0                     0                   0   \n",
       "233153  ...                     0                     0                   0   \n",
       "\n",
       "        SEC.INSTAL.AMT  NEW.ACCTS.IN.LAST.SIX.MONTHS  \\\n",
       "0                    0                             0   \n",
       "1                    0                             0   \n",
       "2                    0                             0   \n",
       "3                    0                             0   \n",
       "4                    0                             0   \n",
       "...                ...                           ...   \n",
       "233149               0                             0   \n",
       "233150               0                             0   \n",
       "233151               0                             0   \n",
       "233152               0                             0   \n",
       "233153               0                             0   \n",
       "\n",
       "        DELINQUENT.ACCTS.IN.LAST.SIX.MONTHS  AVERAGE.ACCT.AGE  \\\n",
       "0                                         0         0yrs 0mon   \n",
       "1                                         1        1yrs 11mon   \n",
       "2                                         0         0yrs 0mon   \n",
       "3                                         0         0yrs 8mon   \n",
       "4                                         0         0yrs 0mon   \n",
       "...                                     ...               ...   \n",
       "233149                                    0         1yrs 9mon   \n",
       "233150                                    0         0yrs 6mon   \n",
       "233151                                    0         0yrs 0mon   \n",
       "233152                                    0         0yrs 0mon   \n",
       "233153                                    0         0yrs 0mon   \n",
       "\n",
       "        CREDIT.HISTORY.LENGTH  NO.OF_INQUIRIES  loan_default  \n",
       "0                   0yrs 0mon                0             0  \n",
       "1                  1yrs 11mon                0             1  \n",
       "2                   0yrs 0mon                0             0  \n",
       "3                   1yrs 3mon                1             1  \n",
       "4                   0yrs 0mon                1             1  \n",
       "...                       ...              ...           ...  \n",
       "233149              3yrs 3mon                0             0  \n",
       "233150              0yrs 6mon                0             0  \n",
       "233151              0yrs 0mon                0             0  \n",
       "233152              0yrs 0mon                0             0  \n",
       "233153              0yrs 0mon                0             0  \n",
       "\n",
       "[233154 rows x 41 columns]"
      ]
     },
     "execution_count": 4,
     "metadata": {},
     "output_type": "execute_result"
    }
   ],
   "source": [
    "data=pd.read_csv(\"train.csv\")\n",
    "data"
   ]
  },
  {
   "cell_type": "code",
   "execution_count": 5,
   "id": "983206ca",
   "metadata": {},
   "outputs": [],
   "source": [
    "from sklearn.preprocessing import LabelEncoder\n",
    "labelencoder=LabelEncoder()"
   ]
  },
  {
   "cell_type": "code",
   "execution_count": 6,
   "id": "cbb2e3bf",
   "metadata": {},
   "outputs": [
    {
     "data": {
      "text/html": [
       "<div>\n",
       "<style scoped>\n",
       "    .dataframe tbody tr th:only-of-type {\n",
       "        vertical-align: middle;\n",
       "    }\n",
       "\n",
       "    .dataframe tbody tr th {\n",
       "        vertical-align: top;\n",
       "    }\n",
       "\n",
       "    .dataframe thead th {\n",
       "        text-align: right;\n",
       "    }\n",
       "</style>\n",
       "<table border=\"1\" class=\"dataframe\">\n",
       "  <thead>\n",
       "    <tr style=\"text-align: right;\">\n",
       "      <th></th>\n",
       "      <th>Employment.Type</th>\n",
       "      <th>u_Employment.Type</th>\n",
       "    </tr>\n",
       "  </thead>\n",
       "  <tbody>\n",
       "    <tr>\n",
       "      <th>0</th>\n",
       "      <td>Salaried</td>\n",
       "      <td>0</td>\n",
       "    </tr>\n",
       "    <tr>\n",
       "      <th>1</th>\n",
       "      <td>Self employed</td>\n",
       "      <td>1</td>\n",
       "    </tr>\n",
       "    <tr>\n",
       "      <th>87</th>\n",
       "      <td>NaN</td>\n",
       "      <td>2</td>\n",
       "    </tr>\n",
       "  </tbody>\n",
       "</table>\n",
       "</div>"
      ],
      "text/plain": [
       "   Employment.Type  u_Employment.Type\n",
       "0         Salaried                  0\n",
       "1    Self employed                  1\n",
       "87             NaN                  2"
      ]
     },
     "execution_count": 6,
     "metadata": {},
     "output_type": "execute_result"
    }
   ],
   "source": [
    "data['u_Employment.Type']=labelencoder.fit_transform(data['Employment.Type'])\n",
    "u_Employment_Type=data[['Employment.Type','u_Employment.Type']].drop_duplicates().sort_values(by='u_Employment.Type')\n",
    "u_Employment_Type"
   ]
  },
  {
   "cell_type": "code",
   "execution_count": 7,
   "id": "5327acb0",
   "metadata": {},
   "outputs": [
    {
     "data": {
      "text/html": [
       "<div>\n",
       "<style scoped>\n",
       "    .dataframe tbody tr th:only-of-type {\n",
       "        vertical-align: middle;\n",
       "    }\n",
       "\n",
       "    .dataframe tbody tr th {\n",
       "        vertical-align: top;\n",
       "    }\n",
       "\n",
       "    .dataframe thead th {\n",
       "        text-align: right;\n",
       "    }\n",
       "</style>\n",
       "<table border=\"1\" class=\"dataframe\">\n",
       "  <thead>\n",
       "    <tr style=\"text-align: right;\">\n",
       "      <th></th>\n",
       "      <th>u_PERFORM_CNS.SCORE.DESCRIPTION</th>\n",
       "      <th>PERFORM_CNS.SCORE.DESCRIPTION</th>\n",
       "    </tr>\n",
       "  </thead>\n",
       "  <tbody>\n",
       "    <tr>\n",
       "      <th>5</th>\n",
       "      <td>0</td>\n",
       "      <td>A-Very Low Risk</td>\n",
       "    </tr>\n",
       "    <tr>\n",
       "      <th>11</th>\n",
       "      <td>1</td>\n",
       "      <td>B-Very Low Risk</td>\n",
       "    </tr>\n",
       "    <tr>\n",
       "      <th>13</th>\n",
       "      <td>2</td>\n",
       "      <td>C-Very Low Risk</td>\n",
       "    </tr>\n",
       "    <tr>\n",
       "      <th>8</th>\n",
       "      <td>3</td>\n",
       "      <td>D-Very Low Risk</td>\n",
       "    </tr>\n",
       "    <tr>\n",
       "      <th>17</th>\n",
       "      <td>4</td>\n",
       "      <td>E-Low Risk</td>\n",
       "    </tr>\n",
       "    <tr>\n",
       "      <th>36</th>\n",
       "      <td>5</td>\n",
       "      <td>F-Low Risk</td>\n",
       "    </tr>\n",
       "    <tr>\n",
       "      <th>152</th>\n",
       "      <td>6</td>\n",
       "      <td>G-Low Risk</td>\n",
       "    </tr>\n",
       "    <tr>\n",
       "      <th>19</th>\n",
       "      <td>7</td>\n",
       "      <td>H-Medium Risk</td>\n",
       "    </tr>\n",
       "    <tr>\n",
       "      <th>1</th>\n",
       "      <td>8</td>\n",
       "      <td>I-Medium Risk</td>\n",
       "    </tr>\n",
       "    <tr>\n",
       "      <th>164</th>\n",
       "      <td>9</td>\n",
       "      <td>J-High Risk</td>\n",
       "    </tr>\n",
       "    <tr>\n",
       "      <th>37</th>\n",
       "      <td>10</td>\n",
       "      <td>K-High Risk</td>\n",
       "    </tr>\n",
       "    <tr>\n",
       "      <th>3</th>\n",
       "      <td>11</td>\n",
       "      <td>L-Very High Risk</td>\n",
       "    </tr>\n",
       "    <tr>\n",
       "      <th>10</th>\n",
       "      <td>12</td>\n",
       "      <td>M-Very High Risk</td>\n",
       "    </tr>\n",
       "    <tr>\n",
       "      <th>0</th>\n",
       "      <td>13</td>\n",
       "      <td>No Bureau History Available</td>\n",
       "    </tr>\n",
       "    <tr>\n",
       "      <th>48879</th>\n",
       "      <td>14</td>\n",
       "      <td>Not Scored: More than 50 active Accounts found</td>\n",
       "    </tr>\n",
       "    <tr>\n",
       "      <th>44</th>\n",
       "      <td>15</td>\n",
       "      <td>Not Scored: No Activity seen on the customer (...</td>\n",
       "    </tr>\n",
       "    <tr>\n",
       "      <th>72</th>\n",
       "      <td>16</td>\n",
       "      <td>Not Scored: No Updates available in last 36 mo...</td>\n",
       "    </tr>\n",
       "    <tr>\n",
       "      <th>7</th>\n",
       "      <td>17</td>\n",
       "      <td>Not Scored: Not Enough Info available on the c...</td>\n",
       "    </tr>\n",
       "    <tr>\n",
       "      <th>312</th>\n",
       "      <td>18</td>\n",
       "      <td>Not Scored: Only a Guarantor</td>\n",
       "    </tr>\n",
       "    <tr>\n",
       "      <th>46</th>\n",
       "      <td>19</td>\n",
       "      <td>Not Scored: Sufficient History Not Available</td>\n",
       "    </tr>\n",
       "  </tbody>\n",
       "</table>\n",
       "</div>"
      ],
      "text/plain": [
       "       u_PERFORM_CNS.SCORE.DESCRIPTION  \\\n",
       "5                                    0   \n",
       "11                                   1   \n",
       "13                                   2   \n",
       "8                                    3   \n",
       "17                                   4   \n",
       "36                                   5   \n",
       "152                                  6   \n",
       "19                                   7   \n",
       "1                                    8   \n",
       "164                                  9   \n",
       "37                                  10   \n",
       "3                                   11   \n",
       "10                                  12   \n",
       "0                                   13   \n",
       "48879                               14   \n",
       "44                                  15   \n",
       "72                                  16   \n",
       "7                                   17   \n",
       "312                                 18   \n",
       "46                                  19   \n",
       "\n",
       "                           PERFORM_CNS.SCORE.DESCRIPTION  \n",
       "5                                        A-Very Low Risk  \n",
       "11                                       B-Very Low Risk  \n",
       "13                                       C-Very Low Risk  \n",
       "8                                        D-Very Low Risk  \n",
       "17                                            E-Low Risk  \n",
       "36                                            F-Low Risk  \n",
       "152                                           G-Low Risk  \n",
       "19                                         H-Medium Risk  \n",
       "1                                          I-Medium Risk  \n",
       "164                                          J-High Risk  \n",
       "37                                           K-High Risk  \n",
       "3                                       L-Very High Risk  \n",
       "10                                      M-Very High Risk  \n",
       "0                            No Bureau History Available  \n",
       "48879     Not Scored: More than 50 active Accounts found  \n",
       "44     Not Scored: No Activity seen on the customer (...  \n",
       "72     Not Scored: No Updates available in last 36 mo...  \n",
       "7      Not Scored: Not Enough Info available on the c...  \n",
       "312                         Not Scored: Only a Guarantor  \n",
       "46          Not Scored: Sufficient History Not Available  "
      ]
     },
     "execution_count": 7,
     "metadata": {},
     "output_type": "execute_result"
    }
   ],
   "source": [
    "data['u_PERFORM_CNS.SCORE.DESCRIPTION']=labelencoder.fit_transform(data['PERFORM_CNS.SCORE.DESCRIPTION'])\n",
    "u_PERFORM_CNS_SCORE_DESCRIPTION=data[['u_PERFORM_CNS.SCORE.DESCRIPTION','PERFORM_CNS.SCORE.DESCRIPTION']].drop_duplicates().sort_values(by='u_PERFORM_CNS.SCORE.DESCRIPTION')\n",
    "u_PERFORM_CNS_SCORE_DESCRIPTION"
   ]
  },
  {
   "cell_type": "code",
   "execution_count": 8,
   "id": "6a0cc5b0",
   "metadata": {},
   "outputs": [],
   "source": [
    "def convert_age(age_str):\n",
    "    years, months = age_str.split(' ')\n",
    "    years = int(years[:-3]) if 'yrs' in years else 0\n",
    "    months = int(months[:-3]) if 'mon' in months else 0\n",
    "    return '{:.2f}'.format(years*12 + months)"
   ]
  },
  {
   "cell_type": "code",
   "execution_count": 9,
   "id": "eb49fb21",
   "metadata": {},
   "outputs": [],
   "source": [
    "data['u_CREDIT.HISTORY.LENGTH'] = data['CREDIT.HISTORY.LENGTH'].apply(convert_age)"
   ]
  },
  {
   "cell_type": "code",
   "execution_count": 10,
   "id": "5e981d24",
   "metadata": {},
   "outputs": [],
   "source": [
    "data['u_CREDIT.HISTORY.LENGTH']=data['u_CREDIT.HISTORY.LENGTH'].astype(float)"
   ]
  },
  {
   "cell_type": "code",
   "execution_count": 11,
   "id": "d46e0414",
   "metadata": {},
   "outputs": [],
   "source": [
    "data['Date.of.Birth']=pd.to_datetime(data['Date.of.Birth'],infer_datetime_format=True)"
   ]
  },
  {
   "cell_type": "code",
   "execution_count": 12,
   "id": "2fcb4b7d",
   "metadata": {},
   "outputs": [],
   "source": [
    "data['AVERAGE.ACCT.AGE'] = data['AVERAGE.ACCT.AGE'].apply(convert_age)"
   ]
  },
  {
   "cell_type": "code",
   "execution_count": 13,
   "id": "0679dbf5",
   "metadata": {},
   "outputs": [],
   "source": [
    "data['AVERAGE.ACCT.AGE']=data['AVERAGE.ACCT.AGE'].astype(float)"
   ]
  },
  {
   "cell_type": "code",
   "execution_count": 14,
   "id": "77fce54d",
   "metadata": {},
   "outputs": [],
   "source": [
    "data['DisbursalDate']=pd.to_datetime(data['DisbursalDate'],infer_datetime_format=True)"
   ]
  },
  {
   "cell_type": "code",
   "execution_count": 15,
   "id": "57ab2e2f",
   "metadata": {},
   "outputs": [
    {
     "name": "stdout",
     "output_type": "stream",
     "text": [
      "<class 'pandas.core.frame.DataFrame'>\n",
      "RangeIndex: 233154 entries, 0 to 233153\n",
      "Data columns (total 44 columns):\n",
      " #   Column                               Non-Null Count   Dtype         \n",
      "---  ------                               --------------   -----         \n",
      " 0   UniqueID                             233154 non-null  int64         \n",
      " 1   disbursed_amount                     233154 non-null  int64         \n",
      " 2   asset_cost                           233154 non-null  int64         \n",
      " 3   ltv                                  233154 non-null  float64       \n",
      " 4   branch_id                            233154 non-null  int64         \n",
      " 5   supplier_id                          233154 non-null  int64         \n",
      " 6   manufacturer_id                      233154 non-null  int64         \n",
      " 7   Current_pincode_ID                   233154 non-null  int64         \n",
      " 8   Date.of.Birth                        233154 non-null  datetime64[ns]\n",
      " 9   Employment.Type                      225493 non-null  object        \n",
      " 10  DisbursalDate                        233154 non-null  datetime64[ns]\n",
      " 11  State_ID                             233154 non-null  int64         \n",
      " 12  Employee_code_ID                     233154 non-null  int64         \n",
      " 13  MobileNo_Avl_Flag                    233154 non-null  int64         \n",
      " 14  Aadhar_flag                          233154 non-null  int64         \n",
      " 15  PAN_flag                             233154 non-null  int64         \n",
      " 16  VoterID_flag                         233154 non-null  int64         \n",
      " 17  Driving_flag                         233154 non-null  int64         \n",
      " 18  Passport_flag                        233154 non-null  int64         \n",
      " 19  PERFORM_CNS.SCORE                    233154 non-null  int64         \n",
      " 20  PERFORM_CNS.SCORE.DESCRIPTION        233154 non-null  object        \n",
      " 21  PRI.NO.OF.ACCTS                      233154 non-null  int64         \n",
      " 22  PRI.ACTIVE.ACCTS                     233154 non-null  int64         \n",
      " 23  PRI.OVERDUE.ACCTS                    233154 non-null  int64         \n",
      " 24  PRI.CURRENT.BALANCE                  233154 non-null  int64         \n",
      " 25  PRI.SANCTIONED.AMOUNT                233154 non-null  int64         \n",
      " 26  PRI.DISBURSED.AMOUNT                 233154 non-null  int64         \n",
      " 27  SEC.NO.OF.ACCTS                      233154 non-null  int64         \n",
      " 28  SEC.ACTIVE.ACCTS                     233154 non-null  int64         \n",
      " 29  SEC.OVERDUE.ACCTS                    233154 non-null  int64         \n",
      " 30  SEC.CURRENT.BALANCE                  233154 non-null  int64         \n",
      " 31  SEC.SANCTIONED.AMOUNT                233154 non-null  int64         \n",
      " 32  SEC.DISBURSED.AMOUNT                 233154 non-null  int64         \n",
      " 33  PRIMARY.INSTAL.AMT                   233154 non-null  int64         \n",
      " 34  SEC.INSTAL.AMT                       233154 non-null  int64         \n",
      " 35  NEW.ACCTS.IN.LAST.SIX.MONTHS         233154 non-null  int64         \n",
      " 36  DELINQUENT.ACCTS.IN.LAST.SIX.MONTHS  233154 non-null  int64         \n",
      " 37  AVERAGE.ACCT.AGE                     233154 non-null  float64       \n",
      " 38  CREDIT.HISTORY.LENGTH                233154 non-null  object        \n",
      " 39  NO.OF_INQUIRIES                      233154 non-null  int64         \n",
      " 40  loan_default                         233154 non-null  int64         \n",
      " 41  u_Employment.Type                    233154 non-null  int64         \n",
      " 42  u_PERFORM_CNS.SCORE.DESCRIPTION      233154 non-null  int64         \n",
      " 43  u_CREDIT.HISTORY.LENGTH              233154 non-null  float64       \n",
      "dtypes: datetime64[ns](2), float64(3), int64(36), object(3)\n",
      "memory usage: 78.3+ MB\n"
     ]
    }
   ],
   "source": [
    "data.info()"
   ]
  },
  {
   "cell_type": "code",
   "execution_count": 16,
   "id": "f2a95132",
   "metadata": {},
   "outputs": [],
   "source": [
    "data1=data.drop(['Employment.Type','PERFORM_CNS.SCORE.DESCRIPTION','CREDIT.HISTORY.LENGTH'],axis=1)"
   ]
  },
  {
   "cell_type": "code",
   "execution_count": 17,
   "id": "ee8423c2",
   "metadata": {},
   "outputs": [
    {
     "name": "stdout",
     "output_type": "stream",
     "text": [
      "<class 'pandas.core.frame.DataFrame'>\n",
      "RangeIndex: 233154 entries, 0 to 233153\n",
      "Data columns (total 41 columns):\n",
      " #   Column                               Non-Null Count   Dtype         \n",
      "---  ------                               --------------   -----         \n",
      " 0   UniqueID                             233154 non-null  int64         \n",
      " 1   disbursed_amount                     233154 non-null  int64         \n",
      " 2   asset_cost                           233154 non-null  int64         \n",
      " 3   ltv                                  233154 non-null  float64       \n",
      " 4   branch_id                            233154 non-null  int64         \n",
      " 5   supplier_id                          233154 non-null  int64         \n",
      " 6   manufacturer_id                      233154 non-null  int64         \n",
      " 7   Current_pincode_ID                   233154 non-null  int64         \n",
      " 8   Date.of.Birth                        233154 non-null  datetime64[ns]\n",
      " 9   DisbursalDate                        233154 non-null  datetime64[ns]\n",
      " 10  State_ID                             233154 non-null  int64         \n",
      " 11  Employee_code_ID                     233154 non-null  int64         \n",
      " 12  MobileNo_Avl_Flag                    233154 non-null  int64         \n",
      " 13  Aadhar_flag                          233154 non-null  int64         \n",
      " 14  PAN_flag                             233154 non-null  int64         \n",
      " 15  VoterID_flag                         233154 non-null  int64         \n",
      " 16  Driving_flag                         233154 non-null  int64         \n",
      " 17  Passport_flag                        233154 non-null  int64         \n",
      " 18  PERFORM_CNS.SCORE                    233154 non-null  int64         \n",
      " 19  PRI.NO.OF.ACCTS                      233154 non-null  int64         \n",
      " 20  PRI.ACTIVE.ACCTS                     233154 non-null  int64         \n",
      " 21  PRI.OVERDUE.ACCTS                    233154 non-null  int64         \n",
      " 22  PRI.CURRENT.BALANCE                  233154 non-null  int64         \n",
      " 23  PRI.SANCTIONED.AMOUNT                233154 non-null  int64         \n",
      " 24  PRI.DISBURSED.AMOUNT                 233154 non-null  int64         \n",
      " 25  SEC.NO.OF.ACCTS                      233154 non-null  int64         \n",
      " 26  SEC.ACTIVE.ACCTS                     233154 non-null  int64         \n",
      " 27  SEC.OVERDUE.ACCTS                    233154 non-null  int64         \n",
      " 28  SEC.CURRENT.BALANCE                  233154 non-null  int64         \n",
      " 29  SEC.SANCTIONED.AMOUNT                233154 non-null  int64         \n",
      " 30  SEC.DISBURSED.AMOUNT                 233154 non-null  int64         \n",
      " 31  PRIMARY.INSTAL.AMT                   233154 non-null  int64         \n",
      " 32  SEC.INSTAL.AMT                       233154 non-null  int64         \n",
      " 33  NEW.ACCTS.IN.LAST.SIX.MONTHS         233154 non-null  int64         \n",
      " 34  DELINQUENT.ACCTS.IN.LAST.SIX.MONTHS  233154 non-null  int64         \n",
      " 35  AVERAGE.ACCT.AGE                     233154 non-null  float64       \n",
      " 36  NO.OF_INQUIRIES                      233154 non-null  int64         \n",
      " 37  loan_default                         233154 non-null  int64         \n",
      " 38  u_Employment.Type                    233154 non-null  int64         \n",
      " 39  u_PERFORM_CNS.SCORE.DESCRIPTION      233154 non-null  int64         \n",
      " 40  u_CREDIT.HISTORY.LENGTH              233154 non-null  float64       \n",
      "dtypes: datetime64[ns](2), float64(3), int64(36)\n",
      "memory usage: 72.9 MB\n"
     ]
    }
   ],
   "source": [
    "data1.info()"
   ]
  },
  {
   "cell_type": "code",
   "execution_count": 18,
   "id": "f5001400",
   "metadata": {},
   "outputs": [],
   "source": [
    "data1=data1.set_index('UniqueID')"
   ]
  },
  {
   "cell_type": "code",
   "execution_count": 19,
   "id": "2caf7f2a",
   "metadata": {},
   "outputs": [
    {
     "name": "stdout",
     "output_type": "stream",
     "text": [
      "                               features       VIF\n",
      "0                             branch_id  2.146828\n",
      "1                    Current_pincode_ID  2.925745\n",
      "2                              State_ID  3.399421\n",
      "3                      Employee_code_ID  3.369716\n",
      "4                           Aadhar_flag  3.941804\n",
      "5                              PAN_flag  1.117234\n",
      "6                          Driving_flag  1.066401\n",
      "7                         Passport_flag  1.005785\n",
      "8                     PERFORM_CNS.SCORE  2.844980\n",
      "9                       PRI.NO.OF.ACCTS  3.219353\n",
      "10                     PRI.ACTIVE.ACCTS  5.793597\n",
      "11                    PRI.OVERDUE.ACCTS  1.718195\n",
      "12                  PRI.CURRENT.BALANCE  1.575615\n",
      "13                 PRI.DISBURSED.AMOUNT  1.296863\n",
      "14                      SEC.NO.OF.ACCTS  3.474468\n",
      "15                     SEC.ACTIVE.ACCTS  3.756697\n",
      "16                    SEC.OVERDUE.ACCTS  1.436026\n",
      "17                SEC.SANCTIONED.AMOUNT  1.266417\n",
      "18                   PRIMARY.INSTAL.AMT  1.099049\n",
      "19                       SEC.INSTAL.AMT  1.072060\n",
      "20         NEW.ACCTS.IN.LAST.SIX.MONTHS  2.798591\n",
      "21  DELINQUENT.ACCTS.IN.LAST.SIX.MONTHS  1.497451\n",
      "22                     AVERAGE.ACCT.AGE  5.465098\n",
      "23                      NO.OF_INQUIRIES  1.182053\n",
      "24                    u_Employment.Type  2.268550\n",
      "25              u_CREDIT.HISTORY.LENGTH  6.453236\n"
     ]
    }
   ],
   "source": [
    "from statsmodels.stats.outliers_influence import variance_inflation_factor\n",
    "y = data1['loan_default']\n",
    "x = data1.drop(columns={'asset_cost','loan_default',\n",
    "                        'Date.of.Birth',\n",
    "                        'DisbursalDate',\n",
    "                        'SEC.DISBURSED.AMOUNT',\n",
    "                        'disbursed_amount',\n",
    "                        'manufacturer_id',\n",
    "                        'MobileNo_Avl_Flag',\n",
    "                        'VoterID_flag',\n",
    "                        'u_PERFORM_CNS.SCORE.DESCRIPTION',\n",
    "                        'PRI.SANCTIONED.AMOUNT','supplier_id','ltv','SEC.CURRENT.BALANCE'}, axis=1)\n",
    "\n",
    "vif_data=pd.DataFrame()\n",
    "vif_data[\"features\"]=x.columns\n",
    "vif_data[\"VIF\"] = [variance_inflation_factor(x.values, i)\n",
    "                          for i in range(len(x.columns))]\n",
    "print(vif_data)\n",
    "\n"
   ]
  },
  {
   "cell_type": "code",
   "execution_count": 20,
   "id": "e24238cc",
   "metadata": {},
   "outputs": [],
   "source": [
    "data1=data1.drop(['Date.of.Birth',\n",
    "                        'DisbursalDate',\n",
    "                        'SEC.DISBURSED.AMOUNT',\n",
    "                        'disbursed_amount',\n",
    "                        'manufacturer_id',\n",
    "                        'MobileNo_Avl_Flag',\n",
    "                        'VoterID_flag',\n",
    "                        'u_PERFORM_CNS.SCORE.DESCRIPTION',\n",
    "                        'PRI.SANCTIONED.AMOUNT','supplier_id','ltv','SEC.CURRENT.BALANCE'],axis=1)"
   ]
  },
  {
   "cell_type": "code",
   "execution_count": 21,
   "id": "56eb36df",
   "metadata": {},
   "outputs": [
    {
     "data": {
      "text/plain": [
       "(233154, 28)"
      ]
     },
     "execution_count": 21,
     "metadata": {},
     "output_type": "execute_result"
    }
   ],
   "source": [
    "data1.shape"
   ]
  },
  {
   "cell_type": "code",
   "execution_count": null,
   "id": "4ca28fb4",
   "metadata": {},
   "outputs": [],
   "source": []
  },
  {
   "cell_type": "code",
   "execution_count": 22,
   "id": "62836520",
   "metadata": {},
   "outputs": [],
   "source": [
    "from sklearn.linear_model import LogisticRegression\n",
    "from sklearn.model_selection import train_test_split\n",
    "from sklearn.metrics import accuracy_score"
   ]
  },
  {
   "cell_type": "code",
   "execution_count": 23,
   "id": "eed0cb65",
   "metadata": {},
   "outputs": [
    {
     "data": {
      "text/plain": [
       "(233154, 27)"
      ]
     },
     "execution_count": 23,
     "metadata": {},
     "output_type": "execute_result"
    }
   ],
   "source": [
    "X=data1.drop(['loan_default'],axis=1)\n",
    "X.shape"
   ]
  },
  {
   "cell_type": "code",
   "execution_count": 24,
   "id": "38b79348",
   "metadata": {},
   "outputs": [
    {
     "data": {
      "text/plain": [
       "0    182543\n",
       "1     50611\n",
       "Name: loan_default, dtype: int64"
      ]
     },
     "execution_count": 24,
     "metadata": {},
     "output_type": "execute_result"
    }
   ],
   "source": [
    "y=data1['loan_default']\n",
    "y.value_counts()"
   ]
  },
  {
   "cell_type": "code",
   "execution_count": 25,
   "id": "de89aa94",
   "metadata": {},
   "outputs": [],
   "source": [
    "from imblearn.over_sampling import RandomOverSampler\n",
    "\n",
    "ros = RandomOverSampler(random_state=42)\n",
    "X_resampled, y_resampled = ros.fit_resample(X, y)"
   ]
  },
  {
   "cell_type": "code",
   "execution_count": 26,
   "id": "ac24cca5",
   "metadata": {},
   "outputs": [
    {
     "data": {
      "text/plain": [
       "(365086,)"
      ]
     },
     "execution_count": 26,
     "metadata": {},
     "output_type": "execute_result"
    }
   ],
   "source": [
    "y_resampled.shape"
   ]
  },
  {
   "cell_type": "code",
   "execution_count": 27,
   "id": "b3f74d9a",
   "metadata": {},
   "outputs": [],
   "source": [
    "X_train, X_test, y_train, y_test=train_test_split(X_resampled, y_resampled, test_size=0.80, random_state=42) "
   ]
  },
  {
   "cell_type": "code",
   "execution_count": null,
   "id": "01b15c9d",
   "metadata": {},
   "outputs": [],
   "source": []
  },
  {
   "cell_type": "code",
   "execution_count": 28,
   "id": "12b57087",
   "metadata": {},
   "outputs": [],
   "source": [
    "logreg =  LogisticRegression(solver='liblinear') "
   ]
  },
  {
   "cell_type": "code",
   "execution_count": 29,
   "id": "793734b7",
   "metadata": {},
   "outputs": [
    {
     "data": {
      "text/html": [
       "<style>#sk-container-id-1 {color: black;background-color: white;}#sk-container-id-1 pre{padding: 0;}#sk-container-id-1 div.sk-toggleable {background-color: white;}#sk-container-id-1 label.sk-toggleable__label {cursor: pointer;display: block;width: 100%;margin-bottom: 0;padding: 0.3em;box-sizing: border-box;text-align: center;}#sk-container-id-1 label.sk-toggleable__label-arrow:before {content: \"▸\";float: left;margin-right: 0.25em;color: #696969;}#sk-container-id-1 label.sk-toggleable__label-arrow:hover:before {color: black;}#sk-container-id-1 div.sk-estimator:hover label.sk-toggleable__label-arrow:before {color: black;}#sk-container-id-1 div.sk-toggleable__content {max-height: 0;max-width: 0;overflow: hidden;text-align: left;background-color: #f0f8ff;}#sk-container-id-1 div.sk-toggleable__content pre {margin: 0.2em;color: black;border-radius: 0.25em;background-color: #f0f8ff;}#sk-container-id-1 input.sk-toggleable__control:checked~div.sk-toggleable__content {max-height: 200px;max-width: 100%;overflow: auto;}#sk-container-id-1 input.sk-toggleable__control:checked~label.sk-toggleable__label-arrow:before {content: \"▾\";}#sk-container-id-1 div.sk-estimator input.sk-toggleable__control:checked~label.sk-toggleable__label {background-color: #d4ebff;}#sk-container-id-1 div.sk-label input.sk-toggleable__control:checked~label.sk-toggleable__label {background-color: #d4ebff;}#sk-container-id-1 input.sk-hidden--visually {border: 0;clip: rect(1px 1px 1px 1px);clip: rect(1px, 1px, 1px, 1px);height: 1px;margin: -1px;overflow: hidden;padding: 0;position: absolute;width: 1px;}#sk-container-id-1 div.sk-estimator {font-family: monospace;background-color: #f0f8ff;border: 1px dotted black;border-radius: 0.25em;box-sizing: border-box;margin-bottom: 0.5em;}#sk-container-id-1 div.sk-estimator:hover {background-color: #d4ebff;}#sk-container-id-1 div.sk-parallel-item::after {content: \"\";width: 100%;border-bottom: 1px solid gray;flex-grow: 1;}#sk-container-id-1 div.sk-label:hover label.sk-toggleable__label {background-color: #d4ebff;}#sk-container-id-1 div.sk-serial::before {content: \"\";position: absolute;border-left: 1px solid gray;box-sizing: border-box;top: 0;bottom: 0;left: 50%;z-index: 0;}#sk-container-id-1 div.sk-serial {display: flex;flex-direction: column;align-items: center;background-color: white;padding-right: 0.2em;padding-left: 0.2em;position: relative;}#sk-container-id-1 div.sk-item {position: relative;z-index: 1;}#sk-container-id-1 div.sk-parallel {display: flex;align-items: stretch;justify-content: center;background-color: white;position: relative;}#sk-container-id-1 div.sk-item::before, #sk-container-id-1 div.sk-parallel-item::before {content: \"\";position: absolute;border-left: 1px solid gray;box-sizing: border-box;top: 0;bottom: 0;left: 50%;z-index: -1;}#sk-container-id-1 div.sk-parallel-item {display: flex;flex-direction: column;z-index: 1;position: relative;background-color: white;}#sk-container-id-1 div.sk-parallel-item:first-child::after {align-self: flex-end;width: 50%;}#sk-container-id-1 div.sk-parallel-item:last-child::after {align-self: flex-start;width: 50%;}#sk-container-id-1 div.sk-parallel-item:only-child::after {width: 0;}#sk-container-id-1 div.sk-dashed-wrapped {border: 1px dashed gray;margin: 0 0.4em 0.5em 0.4em;box-sizing: border-box;padding-bottom: 0.4em;background-color: white;}#sk-container-id-1 div.sk-label label {font-family: monospace;font-weight: bold;display: inline-block;line-height: 1.2em;}#sk-container-id-1 div.sk-label-container {text-align: center;}#sk-container-id-1 div.sk-container {/* jupyter's `normalize.less` sets `[hidden] { display: none; }` but bootstrap.min.css set `[hidden] { display: none !important; }` so we also need the `!important` here to be able to override the default hidden behavior on the sphinx rendered scikit-learn.org. See: https://github.com/scikit-learn/scikit-learn/issues/21755 */display: inline-block !important;position: relative;}#sk-container-id-1 div.sk-text-repr-fallback {display: none;}</style><div id=\"sk-container-id-1\" class=\"sk-top-container\"><div class=\"sk-text-repr-fallback\"><pre>LogisticRegression(solver=&#x27;liblinear&#x27;)</pre><b>In a Jupyter environment, please rerun this cell to show the HTML representation or trust the notebook. <br />On GitHub, the HTML representation is unable to render, please try loading this page with nbviewer.org.</b></div><div class=\"sk-container\" hidden><div class=\"sk-item\"><div class=\"sk-estimator sk-toggleable\"><input class=\"sk-toggleable__control sk-hidden--visually\" id=\"sk-estimator-id-1\" type=\"checkbox\" checked><label for=\"sk-estimator-id-1\" class=\"sk-toggleable__label sk-toggleable__label-arrow\">LogisticRegression</label><div class=\"sk-toggleable__content\"><pre>LogisticRegression(solver=&#x27;liblinear&#x27;)</pre></div></div></div></div></div>"
      ],
      "text/plain": [
       "LogisticRegression(solver='liblinear')"
      ]
     },
     "execution_count": 29,
     "metadata": {},
     "output_type": "execute_result"
    }
   ],
   "source": [
    "logreg.fit(X_train,y_train)"
   ]
  },
  {
   "cell_type": "code",
   "execution_count": 30,
   "id": "b36847a3",
   "metadata": {},
   "outputs": [],
   "source": [
    "y_pred=logreg.predict(X_test) "
   ]
  },
  {
   "cell_type": "code",
   "execution_count": 31,
   "id": "4938f0d3",
   "metadata": {},
   "outputs": [
    {
     "data": {
      "text/plain": [
       "array([0, 0, 0, ..., 1, 1, 1])"
      ]
     },
     "execution_count": 31,
     "metadata": {},
     "output_type": "execute_result"
    }
   ],
   "source": [
    "y_pred"
   ]
  },
  {
   "cell_type": "code",
   "execution_count": 32,
   "id": "f040b93a",
   "metadata": {},
   "outputs": [
    {
     "data": {
      "text/plain": [
       "array([[66401, 79412],\n",
       "       [58462, 87794]])"
      ]
     },
     "execution_count": 32,
     "metadata": {},
     "output_type": "execute_result"
    }
   ],
   "source": [
    "from sklearn import metrics \n",
    "cnf_matrix = metrics.confusion_matrix(y_test, y_pred) \n",
    "\n",
    "cnf_matrix "
   ]
  },
  {
   "cell_type": "code",
   "execution_count": 33,
   "id": "c395ee31",
   "metadata": {},
   "outputs": [
    {
     "name": "stdout",
     "output_type": "stream",
     "text": [
      "              precision    recall  f1-score   support\n",
      "\n",
      "           0       0.53      0.46      0.49    145813\n",
      "           1       0.53      0.60      0.56    146256\n",
      "\n",
      "    accuracy                           0.53    292069\n",
      "   macro avg       0.53      0.53      0.53    292069\n",
      "weighted avg       0.53      0.53      0.53    292069\n",
      "\n"
     ]
    }
   ],
   "source": [
    "from sklearn.metrics import classification_report\n",
    "print(classification_report(y_test, y_pred))"
   ]
  },
  {
   "cell_type": "code",
   "execution_count": 34,
   "id": "fbac966d",
   "metadata": {},
   "outputs": [
    {
     "name": "stdout",
     "output_type": "stream",
     "text": [
      "              precision    recall  f1-score   support\n",
      "\n",
      "           0       0.62      0.60      0.61    145813\n",
      "           1       0.61      0.63      0.62    146256\n",
      "\n",
      "    accuracy                           0.61    292069\n",
      "   macro avg       0.61      0.61      0.61    292069\n",
      "weighted avg       0.61      0.61      0.61    292069\n",
      "\n"
     ]
    }
   ],
   "source": [
    "from xgboost import XGBClassifier\n",
    "clf = XGBClassifier()\n",
    "clf.fit(X_train, y_train)\n",
    "\n",
    "# Predicting the Test set results\n",
    "y_pred = clf.predict(X_test)\n",
    "\n",
    "from sklearn.metrics import classification_report\n",
    "print(classification_report(y_test, y_pred))"
   ]
  },
  {
   "cell_type": "code",
   "execution_count": 35,
   "id": "11340af2",
   "metadata": {},
   "outputs": [
    {
     "data": {
      "text/plain": [
       "array([[87385, 58428],\n",
       "       [54586, 91670]])"
      ]
     },
     "execution_count": 35,
     "metadata": {},
     "output_type": "execute_result"
    }
   ],
   "source": [
    "from sklearn import metrics \n",
    "cnf_matrix = metrics.confusion_matrix(y_test, y_pred) \n",
    "\n",
    "cnf_matrix"
   ]
  },
  {
   "cell_type": "code",
   "execution_count": 36,
   "id": "6090e5cb",
   "metadata": {},
   "outputs": [
    {
     "name": "stdout",
     "output_type": "stream",
     "text": [
      "Accuracy: 0.7049053477089318\n"
     ]
    }
   ],
   "source": [
    "from sklearn.ensemble import RandomForestClassifier\n",
    "\n",
    "\n",
    "# create a random forest classifier object\n",
    "rf = RandomForestClassifier(n_estimators=1000, random_state=42)\n",
    "\n",
    "rf.fit(X_train, y_train)\n",
    "\n",
    "y_pred = rf.predict(X_test)\n",
    "\n",
    "accuracy = accuracy_score(y_test, y_pred)\n",
    "print(\"Accuracy:\", accuracy)"
   ]
  },
  {
   "cell_type": "code",
   "execution_count": 37,
   "id": "c6507e55",
   "metadata": {},
   "outputs": [
    {
     "data": {
      "text/plain": [
       "array([[102236,  43577],\n",
       "       [ 42611, 103645]])"
      ]
     },
     "execution_count": 37,
     "metadata": {},
     "output_type": "execute_result"
    }
   ],
   "source": [
    "from sklearn import metrics \n",
    "cnf_matrix = metrics.confusion_matrix(y_test, y_pred) \n",
    "\n",
    "cnf_matrix"
   ]
  },
  {
   "cell_type": "code",
   "execution_count": 38,
   "id": "b40e970d",
   "metadata": {},
   "outputs": [
    {
     "name": "stdout",
     "output_type": "stream",
     "text": [
      "              precision    recall  f1-score   support\n",
      "\n",
      "           0       0.71      0.70      0.70    145813\n",
      "           1       0.70      0.71      0.71    146256\n",
      "\n",
      "    accuracy                           0.70    292069\n",
      "   macro avg       0.70      0.70      0.70    292069\n",
      "weighted avg       0.70      0.70      0.70    292069\n",
      "\n"
     ]
    }
   ],
   "source": [
    "print(classification_report(y_test, y_pred))"
   ]
  },
  {
   "cell_type": "code",
   "execution_count": 39,
   "id": "a997b38f",
   "metadata": {},
   "outputs": [
    {
     "name": "stdout",
     "output_type": "stream",
     "text": [
      "Accuracy: 0.582927321968439\n"
     ]
    }
   ],
   "source": [
    "from sklearn.tree import DecisionTreeClassifier\n",
    "dt = DecisionTreeClassifier(max_depth=10, random_state=42)\n",
    "dt.fit(X_train, y_train)\n",
    "y_pred = dt.predict(X_test)\n",
    "accuracy = accuracy_score(y_test, y_pred)\n",
    "print(\"Accuracy:\", accuracy)"
   ]
  },
  {
   "cell_type": "code",
   "execution_count": 40,
   "id": "c3d9b0bd",
   "metadata": {},
   "outputs": [
    {
     "data": {
      "text/plain": [
       "array([[88639, 57174],\n",
       "       [64640, 81616]])"
      ]
     },
     "execution_count": 40,
     "metadata": {},
     "output_type": "execute_result"
    }
   ],
   "source": [
    "from sklearn import metrics \n",
    "cnf_matrix = metrics.confusion_matrix(y_test, y_pred) \n",
    "\n",
    "cnf_matrix"
   ]
  },
  {
   "cell_type": "code",
   "execution_count": 41,
   "id": "dadcc6ee",
   "metadata": {},
   "outputs": [
    {
     "name": "stdout",
     "output_type": "stream",
     "text": [
      "Accuracy: 0.5868202376835611\n"
     ]
    }
   ],
   "source": [
    "from sklearn.ensemble import GradientBoostingClassifier\n",
    "gbm = GradientBoostingClassifier(n_estimators=100, learning_rate=0.1, max_depth=3)\n",
    "gbm.fit(X_train, y_train)\n",
    "y_pred = gbm.predict(X_test)\n",
    "accuracy = accuracy_score(y_test, y_pred)\n",
    "print(\"Accuracy:\", accuracy)"
   ]
  },
  {
   "cell_type": "code",
   "execution_count": 42,
   "id": "3586e87c",
   "metadata": {},
   "outputs": [
    {
     "data": {
      "text/plain": [
       "array([[82475, 63338],\n",
       "       [57339, 88917]])"
      ]
     },
     "execution_count": 42,
     "metadata": {},
     "output_type": "execute_result"
    }
   ],
   "source": [
    "from sklearn import metrics \n",
    "cnf_matrix = metrics.confusion_matrix(y_test, y_pred) \n",
    "cnf_matrix"
   ]
  },
  {
   "cell_type": "code",
   "execution_count": 43,
   "id": "9bad3188",
   "metadata": {},
   "outputs": [
    {
     "name": "stdout",
     "output_type": "stream",
     "text": [
      "              precision    recall  f1-score   support\n",
      "\n",
      "           0       0.59      0.57      0.58    145813\n",
      "           1       0.58      0.61      0.60    146256\n",
      "\n",
      "    accuracy                           0.59    292069\n",
      "   macro avg       0.59      0.59      0.59    292069\n",
      "weighted avg       0.59      0.59      0.59    292069\n",
      "\n"
     ]
    }
   ],
   "source": [
    "print(classification_report(y_test, y_pred))"
   ]
  },
  {
   "cell_type": "code",
   "execution_count": null,
   "id": "381695f6",
   "metadata": {},
   "outputs": [],
   "source": []
  },
  {
   "cell_type": "code",
   "execution_count": null,
   "id": "5ca22737",
   "metadata": {},
   "outputs": [],
   "source": [
    "\n"
   ]
  },
  {
   "cell_type": "code",
   "execution_count": null,
   "id": "c3dbfc09",
   "metadata": {},
   "outputs": [],
   "source": []
  },
  {
   "cell_type": "code",
   "execution_count": null,
   "id": "72df6ba3",
   "metadata": {},
   "outputs": [],
   "source": []
  },
  {
   "cell_type": "code",
   "execution_count": null,
   "id": "64388919",
   "metadata": {},
   "outputs": [],
   "source": []
  },
  {
   "cell_type": "code",
   "execution_count": null,
   "id": "acf0e1bc",
   "metadata": {},
   "outputs": [],
   "source": []
  }
 ],
 "metadata": {
  "kernelspec": {
   "display_name": "Python 3.9.7 ('base')",
   "language": "python",
   "name": "python397jvsc74a57bd05b7c936c4ff16c1263ff067de7ed61f1c895da6211ba585bcc0ef4a5b98adca1"
  },
  "language_info": {
   "codemirror_mode": {
    "name": "ipython",
    "version": 3
   },
   "file_extension": ".py",
   "mimetype": "text/x-python",
   "name": "python",
   "nbconvert_exporter": "python",
   "pygments_lexer": "ipython3",
   "version": "3.9.7"
  }
 },
 "nbformat": 4,
 "nbformat_minor": 5
}
